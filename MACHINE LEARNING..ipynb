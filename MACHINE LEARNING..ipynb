{
 "cells": [
  {
   "cell_type": "markdown",
   "id": "f25ed52b",
   "metadata": {},
   "source": [
    "# What is machine learning?\n",
    "# Machine learning is a subfield of artificial intelligence, which is broadly defined as the capability of a machine to imitate intelligent human behavior. Artificial intelligence systems are used to perform complex tasks in a way that is similar to how humans solve problems."
   ]
  },
  {
   "cell_type": "markdown",
   "id": "8a03ff6c",
   "metadata": {},
   "source": [
    "# "
   ]
  },
  {
   "cell_type": "markdown",
   "id": "2a6ae85d",
   "metadata": {},
   "source": [
    "# The goal of AI is to create computer models that exhibit “intelligent behaviors” like humans,"
   ]
  },
  {
   "cell_type": "markdown",
   "id": "6f78266e",
   "metadata": {},
   "source": [
    "## Machine learning is one way to use AI. It was defined in the 1950s by AI pioneer Arthur Samuel as “the field of study that gives computers the ability to learn without explicitly being programmed.”"
   ]
  },
  {
   "cell_type": "markdown",
   "id": "865b18bc",
   "metadata": {},
   "source": [
    "### Machine learning starts with data — numbers, photos, or text, like bank transactions, pictures of people or even bakery items, repair records, time series data from sensors, or sales reports. The data is gathered and prepared to be used as training data, or the information the machine learning model will be trained on. The more data, the better the program."
   ]
  },
  {
   "cell_type": "markdown",
   "id": "08a8819d",
   "metadata": {},
   "source": [
    "### From there, programmers choose a machine learning model to use, supply the data, and let the computer model train itself to find patterns or make predictions. "
   ]
  },
  {
   "cell_type": "markdown",
   "id": "f45cff99",
   "metadata": {},
   "source": [
    "### There are three subcategories of machine learning:\n",
    "\n",
    "#### Supervised machine learning models are trained with labeled data sets, which allow the models to learn and grow more accurate over time. For example, an algorithm would be trained with pictures of dogs and other things, all labeled by humans, and the machine would learn ways to identify pictures of dogs on its own. Supervised machine learning is the most common type used today.\n",
    "\n",
    "#### In unsupervised machine learning, a program looks for patterns in unlabeled data. Unsupervised machine learning can find patterns or trends that people aren’t explicitly looking for. For example, an unsupervised machine learning program could look through online sales data and identify different types of clients making purchases.\n",
    "\n",
    "#### Reinforcement machine learning trains machines through trial and error to take the best action by establishing a reward system. Reinforcement learning can train models to play games or train autonomous vehicles to drive by telling the machine when it made the right decisions, which helps it learn over time what actions it should take."
   ]
  },
  {
   "cell_type": "markdown",
   "id": "c1eb7e7a",
   "metadata": {},
   "source": [
    "# Artificial Intelligence Subfield"
   ]
  },
  {
   "cell_type": "markdown",
   "id": "80685470",
   "metadata": {},
   "source": [
    "### Natural language processing\n",
    "\n",
    "#### Natural language processing is a field of machine learning in which machines learn to understand natural language as spoken and written by humans, instead of the data and numbers normally used to program computers. This allows machines to recognize language, understand it, and respond to it, as well as create new text and translate between languages. Natural language processing enables familiar technology like chatbots and digital assistants like Siri or Alexa."
   ]
  },
  {
   "cell_type": "markdown",
   "id": "62219cc3",
   "metadata": {},
   "source": [
    "### Neural networks\n",
    "\n"
   ]
  },
  {
   "cell_type": "markdown",
   "id": "1afca719",
   "metadata": {},
   "source": [
    "### deep Learning"
   ]
  },
  {
   "cell_type": "markdown",
   "id": "7d6cc0b7",
   "metadata": {},
   "source": [
    "# Application Of ML"
   ]
  },
  {
   "cell_type": "markdown",
   "id": "f051902e",
   "metadata": {},
   "source": [
    "## 1)Fraud detection. \n",
    "Machines can analyze patterns, like how someone normally spends or where they normally shop, to identify potentially fraudulent credit card transactions, log-in attempts, or spam emails."
   ]
  },
  {
   "cell_type": "markdown",
   "id": "428bc97b",
   "metadata": {},
   "source": [
    "### 2)Automatic helplines or chatbots. \n",
    "Many companies are deploying online chatbots, in which customers or clients don’t speak to humans, but instead interact with a machine. These algorithms use machine learning and natural language processing, with the bots learning from records of past conversations to come up with appropriate responses."
   ]
  },
  {
   "cell_type": "markdown",
   "id": "964c6a80",
   "metadata": {},
   "source": [
    "### Self-driving cars. \n",
    "Much of the technology behind self-driving cars is based on machine learning, deep learning in particular."
   ]
  },
  {
   "cell_type": "code",
   "execution_count": null,
   "id": "ec2f20ba",
   "metadata": {},
   "outputs": [],
   "source": []
  }
 ],
 "metadata": {
  "kernelspec": {
   "display_name": "Python 3",
   "language": "python",
   "name": "python3"
  },
  "language_info": {
   "codemirror_mode": {
    "name": "ipython",
    "version": 3
   },
   "file_extension": ".py",
   "mimetype": "text/x-python",
   "name": "python",
   "nbconvert_exporter": "python",
   "pygments_lexer": "ipython3",
   "version": "3.9.7"
  }
 },
 "nbformat": 4,
 "nbformat_minor": 5
}
